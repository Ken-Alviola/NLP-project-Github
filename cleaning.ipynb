{
 "cells": [
  {
   "cell_type": "code",
   "execution_count": 1,
   "metadata": {
    "ExecuteTime": {
     "end_time": "2021-05-06T21:36:28.251511Z",
     "start_time": "2021-05-06T21:36:27.590704Z"
    }
   },
   "outputs": [],
   "source": [
    "from sklearn.feature_extraction.text import TfidfVectorizer\n",
    "import nltk\n",
    "import unicodedata\n",
    "import re\n",
    "import pandas as pd\n",
    "import numpy as np\n",
    "import matplotlib.pyplot as plt\n",
    "from sklearn.model_selection import train_test_split\n",
    "from sklearn.linear_model import LogisticRegression\n",
    "from sklearn.metrics import classification_report, accuracy_score"
   ]
  },
  {
   "cell_type": "code",
   "execution_count": null,
   "metadata": {},
   "outputs": [],
   "source": [
    "# These are the headers from Zach's acquire module, so you will have to finish the TODOs there before this works\n",
    "headers = acquire.headers\n",
    "# Visit https://docs.github.com/en/rest/reference/search#search-repositories for more information on the different parameters\n",
    "endpoint = \"https://api.github.com/search/repositories\"\n",
    "query = \"bootcamp in:name\"\n",
    "sort = \"stars\"\n",
    "per_page = 100\n",
    "order = \"desc\"\n",
    "page = 1\n",
    "response = req.get(f\"{endpoint}?q={query}&sort={sort}&per_page={per_page}&order={order}&page={page}\", headers=headers)\n",
    "payload = response.json()\n",
    "payload['items']"
   ]
  }
 ],
 "metadata": {
  "kernelspec": {
   "display_name": "Python 3",
   "language": "python",
   "name": "python3"
  },
  "language_info": {
   "codemirror_mode": {
    "name": "ipython",
    "version": 3
   },
   "file_extension": ".py",
   "mimetype": "text/x-python",
   "name": "python",
   "nbconvert_exporter": "python",
   "pygments_lexer": "ipython3",
   "version": "3.8.5"
  }
 },
 "nbformat": 4,
 "nbformat_minor": 4
}
